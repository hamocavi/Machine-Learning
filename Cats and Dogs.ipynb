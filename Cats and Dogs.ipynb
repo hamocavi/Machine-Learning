{
 "cells": [
  {
   "cell_type": "markdown",
   "metadata": {},
   "source": [
    "##Cats and Dogs\n",
    "\n",
    "Make sure to first install the packages needed:\n",
    "$ pip install fastai==2.0\n",
    "$ pip install fastcore==1.3.2\n",
    "\n",
    "later on, it might be useful to upgrage them:\n",
    "$ pip install fastai --upgrade"
   ]
  },
  {
   "cell_type": "code",
   "execution_count": null,
   "metadata": {},
   "outputs": [
    {
     "data": {
      "text/html": [
       "\n",
       "    <div>\n",
       "        <style>\n",
       "            /* Turns off some styling */\n",
       "            progress {\n",
       "                /* gets rid of default border in Firefox and Opera. */\n",
       "                border: none;\n",
       "                /* Needs to be in here for Safari polyfill so background images work as expected. */\n",
       "                background-size: auto;\n",
       "            }\n",
       "            .progress-bar-interrupted, .progress-bar-interrupted::-webkit-progress-bar {\n",
       "                background: #F44336;\n",
       "            }\n",
       "        </style>\n",
       "      <progress value='0' class='' max='1' style='width:300px; height:20px; vertical-align: middle;'></progress>\n",
       "      0.00% [0/1 00:00<00:00]\n",
       "    </div>\n",
       "    \n",
       "<table border=\"1\" class=\"dataframe\">\n",
       "  <thead>\n",
       "    <tr style=\"text-align: left;\">\n",
       "      <th>epoch</th>\n",
       "      <th>train_loss</th>\n",
       "      <th>valid_loss</th>\n",
       "      <th>error_rate</th>\n",
       "      <th>time</th>\n",
       "    </tr>\n",
       "  </thead>\n",
       "  <tbody>\n",
       "  </tbody>\n",
       "</table><p>\n",
       "\n",
       "    <div>\n",
       "        <style>\n",
       "            /* Turns off some styling */\n",
       "            progress {\n",
       "                /* gets rid of default border in Firefox and Opera. */\n",
       "                border: none;\n",
       "                /* Needs to be in here for Safari polyfill so background images work as expected. */\n",
       "                background-size: auto;\n",
       "            }\n",
       "            .progress-bar-interrupted, .progress-bar-interrupted::-webkit-progress-bar {\n",
       "                background: #F44336;\n",
       "            }\n",
       "        </style>\n",
       "      <progress value='0' class='' max='92' style='width:300px; height:20px; vertical-align: middle;'></progress>\n",
       "      0.00% [0/92 00:00<00:00]\n",
       "    </div>\n",
       "    "
      ],
      "text/plain": [
       "<IPython.core.display.HTML object>"
      ]
     },
     "metadata": {},
     "output_type": "display_data"
    }
   ],
   "source": [
    "#imports all functions and classes needed\n",
    "from fastai.vision.all import *\n",
    "\n",
    "#downloads a standard dataset from fast.ai datasets, extracts it and returns a PATH object with extracted location\n",
    "path = untar_data(URLs.PETS)/'images'\n",
    "\n",
    "#define a function is_cat that labels cats based on a filename rule provided by the dataset's creators\n",
    "def is_cat(x): return x[0].isupper()\n",
    "\n",
    "#Which kind of data we have and how it is structured\n",
    "#ImageDataLoaders is a class for DL. The first part makes reference to the kind of data treated\n",
    "#tmfs stands for transforms, which is a sort of code applied to data during training\n",
    "#resize 224, its dude to historical standard mainly. Increasing size will give better results, but at the price of time and memory comsuption\n",
    "#from_name_function tell how to get labels from filenames \n",
    "#passing this to x[0].isupper() which evaluates to true if the first letter is uppercase\n",
    "#valid_pct=0.2 holds 20% of the data and not use it for training. Instead this will be used as validation set, which assess model accuracy \n",
    "#seed=42 set the random see to the same value every time model is run\n",
    "dls = ImageDataLoaders.from_name_func(path, get_image_files(path), valid_pct=0.2, seed=42, label_func=is_cat, item_tfms=Resize(224))\n",
    "\n",
    "#resnt31 refers to the architecture used and its number of layers. Other options are 18,50,101 and 152\n",
    "#error_rate is the function chosen to measeure the quality of the model's predictions using the validation set\n",
    "#accuracy is another to be used, which in essence is 1.0 - error_rate\n",
    "learn = cnn_learner(dls, resnet34, metrics=error_rate)\n",
    "\n",
    "#fine-tunning pretraied model to new dataset\n",
    "learn.fine_tune(1)"
   ]
  },
  {
   "cell_type": "code",
   "execution_count": null,
   "metadata": {},
   "outputs": [],
   "source": [
    "1+2\n"
   ]
  },
  {
   "cell_type": "code",
   "execution_count": null,
   "metadata": {},
   "outputs": [],
   "source": [
    "uploader= widgets.FileUpload()\n",
    "uploader\n"
   ]
  },
  {
   "cell_type": "code",
   "execution_count": null,
   "metadata": {},
   "outputs": [],
   "source": []
  }
 ],
 "metadata": {
  "kernelspec": {
   "display_name": "Python 3",
   "language": "python",
   "name": "python3"
  },
  "language_info": {
   "codemirror_mode": {
    "name": "ipython",
    "version": 3
   },
   "file_extension": ".py",
   "mimetype": "text/x-python",
   "name": "python",
   "nbconvert_exporter": "python",
   "pygments_lexer": "ipython3",
   "version": "3.8.5"
  }
 },
 "nbformat": 4,
 "nbformat_minor": 4
}
